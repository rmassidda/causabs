{
 "cells": [
  {
   "cell_type": "markdown",
   "metadata": {},
   "source": [
    "# Abstract Models Visualization\n",
    "\n",
    "This notebook provides a visualization\n",
    "of the sampling process for pairs\n",
    "of abstract and concrete linear SCMs."
   ]
  },
  {
   "cell_type": "code",
   "execution_count": null,
   "metadata": {},
   "outputs": [],
   "source": [
    "from tqdm.auto import tqdm\n",
    "import igraph as ig\n",
    "import matplotlib.pyplot as plt\n",
    "import matplotlib.pyplot as plt\n",
    "import numpy as np\n",
    "import pandas as pd\n",
    "import seaborn as sns\n",
    "import seaborn as sns\n",
    "\n",
    "from causabs.dataset import generate_datasets, load_dataset\n",
    "from causabs.utils import check_cancelling_paths\n",
    "from causabs.utils import seed_everything\n",
    "\n",
    "seed_everything(42)"
   ]
  },
  {
   "cell_type": "markdown",
   "metadata": {},
   "source": [
    "Generate dataset with the provided parameters."
   ]
  },
  {
   "cell_type": "code",
   "execution_count": null,
   "metadata": {},
   "outputs": [],
   "source": [
    "data_dir = \"data/\"\n",
    "num_runs = 10\n",
    "dset_params = {\n",
    "    \"abs_nodes\": 10,\n",
    "    \"abs_edges\": 20,\n",
    "    \"abs_type\": \"ER\",\n",
    "    \"min_block_size\": 10,\n",
    "    \"max_block_size\": 15,\n",
    "    \"alpha\": 1e3,\n",
    "    \"relevant_ratio\": 0.5,\n",
    "    \"internal\": True,\n",
    "    \"n_samples\": 1000,\n",
    "    \"noise_term\": \"exponential\",\n",
    "    \"noise_abs\": 0.0,\n",
    "}\n",
    "signature = generate_datasets(dset_params, data_dir, num_runs, force=False)"
   ]
  },
  {
   "cell_type": "markdown",
   "metadata": {},
   "source": [
    "Analyze the generated weigths in each concrete adjacency matrix $\\mathbf{W}$."
   ]
  },
  {
   "cell_type": "code",
   "execution_count": null,
   "metadata": {},
   "outputs": [],
   "source": [
    "# empty dataframe\n",
    "run_summary = pd.DataFrame()\n",
    "for run in range(num_runs):\n",
    "    cnc_weights, _, _, _, _, dset = load_dataset(data_dir, signature, run)\n",
    "    samples_x, samples_y = dset\n",
    "    cancelling = not check_cancelling_paths(cnc_weights)\n",
    "    max_w = np.max(cnc_weights)\n",
    "    min_w = np.min(cnc_weights)\n",
    "    mean_w = np.mean(cnc_weights)\n",
    "    std_w = np.std(cnc_weights)\n",
    "    run_summary = pd.concat(\n",
    "        [\n",
    "            run_summary,\n",
    "            pd.DataFrame(\n",
    "                {\n",
    "                    \"Canc. Paths\": [cancelling],\n",
    "                    \"Max |W_ij|\": [max_w],\n",
    "                    \"Min |W_ij|\": [min_w],\n",
    "                    \"Mean |W_ij|\": [mean_w],\n",
    "                    \"Std |W_ij|\": [std_w],\n",
    "                }\n",
    "            ),\n",
    "        ]\n",
    "    )\n",
    "run_summary"
   ]
  },
  {
   "cell_type": "markdown",
   "metadata": {},
   "source": [
    "Analyze a given run."
   ]
  },
  {
   "cell_type": "code",
   "execution_count": null,
   "metadata": {},
   "outputs": [],
   "source": [
    "run = 3\n",
    "cnc_weights, abs_weights, tau_adj, gamma_adj, partitions, _ = load_dataset(\n",
    "    data_dir, signature, run\n",
    ")"
   ]
  },
  {
   "cell_type": "markdown",
   "metadata": {},
   "source": [
    "Check the necessary condition from Theorem 3 for each pair $(i,j)$ of abstract nodes $\\mathbf{W}_{ij} \\mathbf{F}_{jj} \\bm{t}_j = m_{ij} \\bm{t}_i$."
   ]
  },
  {
   "cell_type": "code",
   "execution_count": null,
   "metadata": {},
   "outputs": [],
   "source": [
    "# nodes\n",
    "abs_nodes = abs_weights.shape[0]\n",
    "cnc_nodes = cnc_weights.shape[0]\n",
    "\n",
    "# partitions boundaries\n",
    "block_start = np.concatenate([[0], np.cumsum(partitions[:-1])])\n",
    "block_end = np.cumsum(partitions)\n",
    "\n",
    "\n",
    "# Helper to get block-indices\n",
    "def get_block(y: int) -> slice:\n",
    "    return slice(block_start[y], block_start[y] + partitions[y])\n",
    "\n",
    "\n",
    "F = np.linalg.inv(np.eye(cnc_nodes) - cnc_weights)\n",
    "for y1 in range(abs_nodes):\n",
    "    for y2 in range(y1 + 1, abs_nodes):\n",
    "        W_ij = cnc_weights[get_block(y1), get_block(y2)]\n",
    "        # print(y1, y2, W_ij.shape)\n",
    "        F_jj = F[get_block(y2), get_block(y2)]\n",
    "        # print(F_jj.shape)\n",
    "        t_j = tau_adj[get_block(y2), y2]\n",
    "        # print(t_j.shape)\n",
    "        t_i = tau_adj[get_block(y1), y1]\n",
    "        # print(t_i.shape)\n",
    "        m_ij = abs_weights[y1, y2]\n",
    "        # print(m_ij.shape)\n",
    "        test = np.allclose(W_ij @ F_jj @ t_j, m_ij * t_i)\n",
    "        if not test:\n",
    "            print(y1, y2, test, np.linalg.norm(W_ij @ F_jj @ t_j - m_ij * t_i))"
   ]
  },
  {
   "cell_type": "markdown",
   "metadata": {},
   "source": [
    "Construct the sets of relevant variables $\\Pi_R$ and block variables $\\Pi$."
   ]
  },
  {
   "cell_type": "code",
   "execution_count": null,
   "metadata": {},
   "outputs": [],
   "source": [
    "# relevant variables\n",
    "relevant = []\n",
    "for y in range(abs_nodes):\n",
    "    relevant.append(list(np.where(np.abs(tau_adj[:, y]) > 0.0)[0]))\n",
    "\n",
    "# constitutive variables\n",
    "block = []\n",
    "for y in range(abs_nodes):\n",
    "    block.append(list(np.where(np.abs(gamma_adj[:, y]) > 0.0)[0]))\n",
    "\n",
    "# block matrix\n",
    "p_matrix = np.zeros_like(tau_adj)\n",
    "for y in range(abs_nodes):\n",
    "    for x in range(block_start[y], block_end[y]):\n",
    "        p_matrix[x, y] = 1"
   ]
  },
  {
   "cell_type": "markdown",
   "metadata": {},
   "source": [
    "Visualize the abstract model, the concrete model, and their abstraction function."
   ]
  },
  {
   "cell_type": "code",
   "execution_count": null,
   "metadata": {},
   "outputs": [],
   "source": [
    "plt.figure(figsize=(15, 10))\n",
    "\n",
    "vmin = -2\n",
    "vmax = 2\n",
    "\n",
    "# Tau\n",
    "plt.subplot(2, 3, 1)\n",
    "sns.heatmap(\n",
    "    tau_adj, annot=False, cmap=\"RdBu_r\", vmin=vmin, vmax=vmax, cbar=False\n",
    ")\n",
    "plt.title(r\"$\\tau$-abstraction\")\n",
    "\n",
    "# Gamma\n",
    "plt.subplot(2, 3, 2)\n",
    "sns.heatmap(gamma_adj, annot=False, cmap=\"RdBu_r\", vmin=vmin, vmax=vmax)\n",
    "plt.title(r\"$\\gamma$-abstraction\")\n",
    "\n",
    "# partition\n",
    "plt.subplot(2, 3, 3)\n",
    "sns.heatmap(\n",
    "    p_matrix, annot=False, cmap=\"RdBu_r\", vmin=-1, vmax=1.0, cbar=False\n",
    ")\n",
    "plt.title(r\"$\\Pi$-partition\")\n",
    "\n",
    "# concrete model weights\n",
    "plt.subplot(2, 3, 4)\n",
    "sns.heatmap(\n",
    "    cnc_weights, annot=False, cmap=\"RdBu_r\", vmin=vmin, vmax=vmax, cbar=False\n",
    ")\n",
    "# Drawing additional grid lines after the first and third rows\n",
    "color = \"#666666FF\"\n",
    "lw = 1\n",
    "plt.axhline(0.0, color=color, lw=lw)  # Horizontal lines\n",
    "plt.axvline(cnc_weights.shape[1], color=color, lw=lw)  # Horizontal lines\n",
    "for cnc_start, cnc_size in zip(\n",
    "    block_start, partitions\n",
    "):  # Adjust the range based on the size of your heatmap\n",
    "    xmin = cnc_start / cnc_weights.shape[1]\n",
    "    ymin = 1 - (cnc_start + cnc_size) / cnc_weights.shape[0]\n",
    "    ymax = 1.0  # ymin + cnc_size / cnc_weights.shape[0]\n",
    "    plt.axhline(\n",
    "        cnc_start + cnc_size, xmin=xmin, color=color, lw=lw\n",
    "    )  # Horizontal lines\n",
    "    plt.axvline(\n",
    "        cnc_start, ymin=ymin, ymax=ymax, color=color, lw=lw\n",
    "    )  # Horizontal lines\n",
    "plt.title(r\"$\\mathcal{L}$ Concrete model\")\n",
    "\n",
    "# abstract model weights\n",
    "plt.subplot(2, 3, 5)\n",
    "sns.heatmap(abs_weights, annot=False, cmap=\"RdBu_r\", vmin=vmin, vmax=vmax)\n",
    "plt.title(r\"$\\mathcal{H}$ Abstract model\")\n",
    "\n",
    "plt.tight_layout()\n",
    "plt.show()"
   ]
  }
 ],
 "metadata": {
  "kernelspec": {
   "display_name": "causabs",
   "language": "python",
   "name": "python3"
  },
  "language_info": {
   "codemirror_mode": {
    "name": "ipython",
    "version": 3
   },
   "file_extension": ".py",
   "mimetype": "text/x-python",
   "name": "python",
   "nbconvert_exporter": "python",
   "pygments_lexer": "ipython3",
   "version": "3.10.13"
  }
 },
 "nbformat": 4,
 "nbformat_minor": 2
}
