{
 "cells": [
  {
   "cell_type": "markdown",
   "metadata": {},
   "source": [
    "# Experimental Analysis"
   ]
  },
  {
   "cell_type": "markdown",
   "metadata": {},
   "source": [
    "Overall, we consider three different strategies:\n",
    "\n",
    "1. **DirectLiNGAM**: learning the model directly from the concrete samples.\n",
    "2. **Abs-LiNGAM**: employing our method to learn the abstraction function $\\hat\\tau$ and the high-level model $\\hat{\\mathcal{H}}$ to constrain the search space of the concrete model.\n",
    "3. **Abs-LiNGAM-GT** employing a ground-truth abstract model $\\mathcal{H}$ to constrain causal discovery on the concrete model.\n",
    "\n",
    "We always return results averaged over 30 independent runs. We consider three size of graphs, controlled by the `flavor` parameter that can be set to `small`, `medium`, or `large`. For further details, please refer to Appendix C and E of the paper.\n",
    "\n",
    "All experiments present a `plot` function that visualizes the results and,\n",
    "if the `store` parameter is set to `True`, stores the results in a file."
   ]
  },
  {
   "cell_type": "markdown",
   "metadata": {},
   "source": [
    "## 1. Paired Samples\n",
    "\n",
    "In this experiment,\n",
    "we show how performance vary\n",
    "for an increading number of paired examples $\\mathcal{D}_J$\n",
    "and a fixed number\n",
    "of concrete examples $\\mathcal{D_L}$\n",
    "sufficient to learn the concrete model."
   ]
  },
  {
   "cell_type": "code",
   "execution_count": null,
   "metadata": {},
   "outputs": [],
   "source": [
    "from experiment1 import plot\n",
    "\n",
    "plot(flavor=\"medium\", store=False)"
   ]
  },
  {
   "cell_type": "markdown",
   "metadata": {},
   "source": [
    "## 2. Concrete Samples\n",
    "\n",
    "In this experiment, we assume that we have a sufficient number of paired data $|\\mathcal{D}_P|\\approx 2 |\\mathbf{X}|$ and study the performance of the methods as the number of concrete samples increases."
   ]
  },
  {
   "cell_type": "code",
   "execution_count": null,
   "metadata": {},
   "outputs": [],
   "source": [
    "from experiment2 import plot\n",
    "\n",
    "plot(flavor=\"medium\", store=False)"
   ]
  },
  {
   "cell_type": "markdown",
   "metadata": {},
   "source": [
    "## 3. Concrete Graph Size\n",
    "\n",
    "In this experiment, we fix the number of paired samples and the number of concrete samples and study the performance of the methods as the size of the graph increases. To get graphs of increasing size we just fix the size of each block and increase the block size. Notably, this grows proportionally with the block size."
   ]
  },
  {
   "cell_type": "code",
   "execution_count": null,
   "metadata": {},
   "outputs": [],
   "source": [
    "from experiment3 import plot\n",
    "\n",
    "plot(flavor=\"medium\", store=False)"
   ]
  },
  {
   "cell_type": "markdown",
   "metadata": {},
   "source": [
    "## 4. Relevant Ratio\n",
    "\n",
    "This experiment is a variation of Experiment 1 where we fix the number of concrete samples and study the performance of the methods as both the number of paired samples and the ratio of relevant variables increases."
   ]
  },
  {
   "cell_type": "code",
   "execution_count": null,
   "metadata": {},
   "outputs": [],
   "source": [
    "from experiment4 import plot\n",
    "\n",
    "plot(flavor=\"medium\", store=False)"
   ]
  },
  {
   "cell_type": "markdown",
   "metadata": {},
   "source": [
    "## 5. $\\tau$-threshold\n",
    "\n",
    "This experiment deals with the reconstruction of the $\\tau$ function from data. It consider different thresholds and different sizes of graph for an increasing number of paired samples.\n",
    "To speed things up, the implementation skips the computation of the concrete model.\n",
    "\n",
    "Overall, it's better to have a high threshold on $\\hat\\tau$ that a lower, since we prefer precision to recall. This is because we use $\\hat\\tau$ to identify which variables are relevant and inhibit paths between relevant variables. Therefore, we want to be careful in saying that a variable in relevant."
   ]
  },
  {
   "cell_type": "code",
   "execution_count": null,
   "metadata": {},
   "outputs": [],
   "source": [
    "from experiment5 import plot\n",
    "\n",
    "plot(flavor=\"medium\", store=False)"
   ]
  },
  {
   "cell_type": "markdown",
   "metadata": {},
   "source": [
    "## 6. $\\mathcal{H}$-threshold\n",
    "\n",
    "In this experiment, we study how does thresholding\n",
    "the abstract adjacency matrix affects the retrieval."
   ]
  },
  {
   "cell_type": "code",
   "execution_count": null,
   "metadata": {},
   "outputs": [],
   "source": [
    "from experiment6 import plot\n",
    "\n",
    "plot(flavor=\"medium\", store=False)"
   ]
  },
  {
   "cell_type": "markdown",
   "metadata": {},
   "source": [
    "## 7. Boostraping\n",
    "\n",
    "In this experiment, we study how bootstraping affects the performance of the method."
   ]
  },
  {
   "cell_type": "code",
   "execution_count": null,
   "metadata": {},
   "outputs": [],
   "source": [
    "from experiment7 import plot\n",
    "\n",
    "plot(flavor=\"medium\", store=False)"
   ]
  },
  {
   "cell_type": "markdown",
   "metadata": {},
   "source": [
    "## 8-10 Additive Noise Abstraction\n",
    "\n",
    "In the first experiment, we study how the presence of additive noise in the abstract samples affect the reconstruction of the abstraction function. We compare the three strategies reported in Appendix D."
   ]
  },
  {
   "cell_type": "code",
   "execution_count": null,
   "metadata": {},
   "outputs": [],
   "source": [
    "from experiment8 import plot\n",
    "\n",
    "plot(flavor=\"medium\", store=False)"
   ]
  },
  {
   "cell_type": "markdown",
   "metadata": {},
   "source": [
    "In this experiment, we study how increased thresholding affects $\\tau$-reconstruction performance in the presence of additive noise on the abstract samples."
   ]
  },
  {
   "cell_type": "code",
   "execution_count": null,
   "metadata": {},
   "outputs": [],
   "source": [
    "from experiment9 import plot\n",
    "\n",
    "plot(flavor=\"medium\", store=False)"
   ]
  },
  {
   "cell_type": "markdown",
   "metadata": {},
   "source": [
    "In this last experiment, we study how the presence of additive noise in the abstract samples affects the overall retrieval performance of the low-level concrete model."
   ]
  },
  {
   "cell_type": "code",
   "execution_count": null,
   "metadata": {},
   "outputs": [],
   "source": [
    "from experiment0 import plot\n",
    "\n",
    "plot(flavor=\"medium\", store=False)"
   ]
  }
 ],
 "metadata": {
  "kernelspec": {
   "display_name": "causabs",
   "language": "python",
   "name": "python3"
  },
  "language_info": {
   "codemirror_mode": {
    "name": "ipython",
    "version": 3
   },
   "file_extension": ".py",
   "mimetype": "text/x-python",
   "name": "python",
   "nbconvert_exporter": "python",
   "pygments_lexer": "ipython3",
   "version": "3.10.13"
  }
 },
 "nbformat": 4,
 "nbformat_minor": 2
}
