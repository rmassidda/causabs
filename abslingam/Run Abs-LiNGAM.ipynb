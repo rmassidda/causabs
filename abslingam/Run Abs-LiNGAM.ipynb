{
 "cells": [
  {
   "cell_type": "markdown",
   "metadata": {},
   "source": [
    "# Run Abs-LiNGAM\n",
    "\n",
    "This notebook performs an execution of Abs-LiNGAM on a sample dataset. The same interface can be used to run DirectLiNGAM or the \"oracle\" version Abs-LiNGAM-GT, where we assume to know the underlying abstraction.\n",
    "\n",
    "The method `_evaluate_lingam`, with varying ranges of parameters, is used for all the experiments.\n",
    "\n",
    "We then report how to access the configuration of the dataset, the parameters of the model, and the results of the execution."
   ]
  },
  {
   "cell_type": "code",
   "execution_count": null,
   "metadata": {},
   "outputs": [],
   "source": [
    "from abs_lingam import _evaluate_lingam\n",
    "from causabs.dataset import generate_datasets\n",
    "from causabs.utils import seed_everything\n",
    "\n",
    "seed_everything(42)\n",
    "\n",
    "dset_params = {\n",
    "    \"abs_nodes\": 5,\n",
    "    \"abs_edges\": 8,\n",
    "    \"abs_type\": \"ER\",\n",
    "    \"min_block_size\": 5,\n",
    "    \"max_block_size\": 10,\n",
    "    \"alpha\": 1e3,\n",
    "    \"relevant_ratio\": 0.5,\n",
    "    \"internal\": True,\n",
    "    \"n_samples\": 50000,\n",
    "    \"noise_term\": \"exponential\",\n",
    "    \"noise_abs\": 0.0,\n",
    "}\n",
    "data_dir = \"data/\"\n",
    "generate_datasets(dset_params, data_dir, 1)\n",
    "\n",
    "results = _evaluate_lingam(\n",
    "    dset_params=dset_params,\n",
    "    data_dir=data_dir,\n",
    "    method=\"Abs-LiNGAM\",\n",
    "    # method=\"Abs-LiNGAM-GT\",\n",
    "    # method=\"DirectLiNGAM\",\n",
    "    n_paired=200,\n",
    "    n_concrete=10000,\n",
    "    run=0,\n",
    "    shuffle_features=True,\n",
    "    normalize=True,\n",
    "    bootstrap_samples=0,\n",
    "    seed=42,\n",
    "    verbose=True,\n",
    ")"
   ]
  },
  {
   "cell_type": "markdown",
   "metadata": {},
   "source": [
    "Experimental Results."
   ]
  },
  {
   "cell_type": "code",
   "execution_count": null,
   "metadata": {},
   "outputs": [],
   "source": [
    "for k, v in results.items():\n",
    "    if 'eval' in k:\n",
    "        print(k, v)"
   ]
  },
  {
   "cell_type": "markdown",
   "metadata": {},
   "source": [
    "Dataset Parameters."
   ]
  },
  {
   "cell_type": "code",
   "execution_count": null,
   "metadata": {},
   "outputs": [],
   "source": [
    "for k, v in results.items():\n",
    "    if 'dset' in k:\n",
    "        print(k, v)"
   ]
  },
  {
   "cell_type": "markdown",
   "metadata": {},
   "source": [
    "Model Parameters."
   ]
  },
  {
   "cell_type": "code",
   "execution_count": null,
   "metadata": {},
   "outputs": [],
   "source": [
    "for k, v in results.items():\n",
    "    if 'params' in k:\n",
    "        print(k, v)"
   ]
  }
 ],
 "metadata": {
  "kernelspec": {
   "display_name": "causabs",
   "language": "python",
   "name": "python3"
  },
  "language_info": {
   "codemirror_mode": {
    "name": "ipython",
    "version": 3
   },
   "file_extension": ".py",
   "mimetype": "text/x-python",
   "name": "python",
   "nbconvert_exporter": "python",
   "pygments_lexer": "ipython3",
   "version": "3.10.13"
  }
 },
 "nbformat": 4,
 "nbformat_minor": 2
}
